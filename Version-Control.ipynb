{
 "cells": [
  {
   "cell_type": "code",
   "execution_count": 5,
   "metadata": {},
   "outputs": [
    {
     "name": "stdin",
     "output_type": "stream",
     "text": [
      "Enter your name:  Stephen\n",
      "Enter your the two digit day of your birthday(ex. 12):  19\n"
     ]
    },
    {
     "name": "stdout",
     "output_type": "stream",
     "text": [
      "Your lucky number is...26\n"
     ]
    }
   ],
   "source": [
    "user_name = input('Enter your name: ')\n",
    "b_date = input(\"Enter your the two digit day of your birthday(ex. 12): \")\n",
    "b_date=int(b_date)\n",
    "nameNum=len(user_name)\n",
    "nameNum=int(nameNum)\n",
    "luckyNum = nameNum+b_date\n",
    "luckyNum=str(luckyNum)\n",
    "print(\"Your lucky number is...\"+luckyNum)\n"
   ]
  },
  {
   "cell_type": "code",
   "execution_count": null,
   "metadata": {},
   "outputs": [],
   "source": []
  }
 ],
 "metadata": {
  "kernelspec": {
   "display_name": "Python 3",
   "language": "python",
   "name": "python3"
  },
  "language_info": {
   "codemirror_mode": {
    "name": "ipython",
    "version": 3
   },
   "file_extension": ".py",
   "mimetype": "text/x-python",
   "name": "python",
   "nbconvert_exporter": "python",
   "pygments_lexer": "ipython3",
   "version": "3.8.3"
  }
 },
 "nbformat": 4,
 "nbformat_minor": 4
}
